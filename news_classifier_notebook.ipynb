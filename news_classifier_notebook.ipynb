{
 "cells": [
  {
   "cell_type": "code",
   "execution_count": null,
   "metadata": {},
   "outputs": [],
   "source": [
    "from octavia.utils.load_data import load_data_news\n",
    "from octavia.utils.models import *\n",
    "from octavia.utils.train import train, save_model\n",
    "import wandb"
   ]
  },
  {
   "cell_type": "code",
   "execution_count": null,
   "metadata": {},
   "outputs": [],
   "source": [
    "# Загрузка данных\n",
    "news_train, news_test, tokenizer, vocab_text = load_data_news()\n",
    "len_vocab = len(vocab_text) + 1\n",
    "print(f\"Размер словаря = {len_vocab}\")"
   ]
  },
  {
   "cell_type": "code",
   "execution_count": null,
   "metadata": {},
   "outputs": [],
   "source": [
    "# Создание модели\n",
    "model = Classification_LSTM(hidden_size=150, embedding_dim=300, vocab_size=len_vocab, num_classes=4)\n",
    "print(model)\n",
    "print('Количество параметров', get_params_number(model))"
   ]
  },
  {
   "cell_type": "code",
   "execution_count": null,
   "metadata": {},
   "outputs": [],
   "source": [
    "# Подключаемся к wandb\n",
    "wandb.login() # dec2ee769ce2e455dd463be9b11767cf8190d658"
   ]
  },
  {
   "cell_type": "code",
   "execution_count": null,
   "metadata": {},
   "outputs": [],
   "source": [
    "run = wandb.init(project=\"project_octavia\", entity=\"wsewolod\")"
   ]
  },
  {
   "cell_type": "code",
   "execution_count": null,
   "metadata": {},
   "outputs": [],
   "source": [
    "# Обучение модели\n",
    "loss_history, best_model, optimizer = train(\n",
    "    model=model,\n",
    "    train_dataset=news_train,\n",
    "    test_dataset=news_test,\n",
    "    criterion=lm_cross_entropy,\n",
    "    epoch_n=100,\n",
    "    batch_size=128,\n",
    "    device=\"cuda\",\n",
    "    lr_scheduler_default=lr_scheduler\n",
    ")"
   ]
  },
  {
   "cell_type": "code",
   "execution_count": null,
   "metadata": {},
   "outputs": [],
   "source": [
    "# Закрываем пробег wandb\n",
    "run.finish()"
   ]
  },
  {
   "cell_type": "code",
   "execution_count": null,
   "metadata": {},
   "outputs": [],
   "source": [
    "# Сохраняем лучшую модель\n",
    "save_path = \"octavia/model_weights\"\n",
    "save_model(save_path, best_model, optimizer, loss_history[-1], \"last\")"
   ]
  }
 ],
 "metadata": {
  "language_info": {
   "name": "python"
  }
 },
 "nbformat": 4,
 "nbformat_minor": 2
}
